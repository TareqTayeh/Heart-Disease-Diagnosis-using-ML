{
 "cells": [
  {
   "cell_type": "code",
   "execution_count": 55,
   "metadata": {},
   "outputs": [],
   "source": [
    "#import the required libraries\n",
    "import pandas as pd\n",
    "import numpy\n",
    "import numpy as np\n",
    "import seaborn as sn\n",
    "import matplotlib.pyplot as plt\n",
    "from sklearn.linear_model import LogisticRegression as logr\n",
    "from sklearn.metrics import confusion_matrix, classification_report \n",
    "from sklearn.model_selection import train_test_split\n",
    "from sklearn.preprocessing import MinMaxScaler\n",
    "\n",
    "#***** assign values after train test split from average of coresponding heart disease true or false ********8\n",
    "\n",
    "#reading in data from excel\n",
    "data = pd.read_csv(r'../Dataset/heart_edited_for_report.csv')\n",
    "\n",
    "#Convert question marks to values\n",
    "data['ca'] = data['ca'].replace('?', 1)\n",
    "data['thal'] = data['thal'].replace('?', 2)\n",
    "\n",
    "#Drop columns with correlation of -0.2 to 0.2 with target\n",
    "data = data.drop(columns=['fbs', 'chol', 'age', 'trestbps', 'restecg'])\n"
   ]
  },
  {
   "cell_type": "code",
   "execution_count": 113,
   "metadata": {},
   "outputs": [],
   "source": [
    "#assign x and y\n",
    "y = data.target.values\n",
    "x = data.drop(['target'], axis = 1)\n",
    "\n",
    "#train test split, random 20% test and 80% train becasue its not a time series\n",
    "X_train, _ , Y_train, _ = train_test_split(x,y, test_size = 0.2)\n",
    "Y_train = Y_train.reshape(-1, 1)\n",
    "\n",
    "#normailize train data \n",
    "norm = MinMaxScaler(feature_range=(0, 1))\n",
    "X_train = norm.fit_transform(X_train)\n",
    "Y_train = norm.fit_transform(Y_train)\n",
    "\n",
    "#normalize data for test split \n",
    "test = norm.fit_transform(data)\n",
    "Y_test = np.delete(test,[0,1,2,3,4,5,6,7], 1)\n",
    "X_test = np.delete(test, 8, 1)\n",
    "\n",
    "#get test split\n",
    "_, X_test, _, Y_test = train_test_split(X_test, Y_test, test_size = 0.2)"
   ]
  },
  {
   "cell_type": "code",
   "execution_count": 114,
   "metadata": {},
   "outputs": [],
   "source": [
    "model = logr(solver = 'saga') #solver : {‘newton-cg’, ‘lbfgs’, ‘liblinear’, ‘sag’, ‘saga’}\n",
    "model.fit(X_train, Y_train.ravel())\n",
    "Y_pred = model.predict(X_test)"
   ]
  },
  {
   "cell_type": "code",
   "execution_count": 115,
   "metadata": {},
   "outputs": [
    {
     "name": "stdout",
     "output_type": "stream",
     "text": [
      "[[30  3]\n",
      " [ 3 25]]\n",
      "              precision    recall  f1-score   support\n",
      "\n",
      "         0.0       0.91      0.91      0.91        33\n",
      "         1.0       0.89      0.89      0.89        28\n",
      "\n",
      "    accuracy                           0.90        61\n",
      "   macro avg       0.90      0.90      0.90        61\n",
      "weighted avg       0.90      0.90      0.90        61\n",
      "\n"
     ]
    }
   ],
   "source": [
    "print(confusion_matrix(Y_test,Y_pred))\n",
    "print(classification_report(Y_test,Y_pred))"
   ]
  },
  {
   "cell_type": "code",
   "execution_count": 60,
   "metadata": {},
   "outputs": [
    {
     "data": {
      "image/png": "[encoded data removed]",
      "text/plain": [
       "<Figure size 432x288 with 2 Axes>"
      ]
     },
     "metadata": {
      "needs_background": "light"
     },
     "output_type": "display_data"
    }
   ],
   "source": [
    "#plot CM    \n",
    "ax= plt.subplot()\n",
    "cm=confusion_matrix(Y_test,Y_pred)\n",
    "sn.heatmap(cm, annot=True, cmap=\"Blues\"); #annot=True to annotate cells\n",
    "\n",
    "# labels, title and ticks\n",
    "ax.set_xlabel('Classifier Prediction')\n",
    "ax.set_ylabel('True Value')\n",
    "ax.set_title('Confusion Matrix')\n",
    "ax.xaxis.set_ticklabels(['0', '1']) \n",
    "ax.yaxis.set_ticklabels(['0', '1'])\n",
    "b, t = plt.ylim() # discover the values for bottom and top\n",
    "b += 0.5 # Add 0.5 to the bottom\n",
    "t -= 0.5 # Subtract 0.5 from the top\n",
    "plt.ylim(b, t) # update the ylim(bottom, top) values\n",
    "plt.show() # ta-da!"
   ]
  },
  {
   "cell_type": "code",
   "execution_count": null,
   "metadata": {},
   "outputs": [],
   "source": []
  }
 ],
 "metadata": {
  "kernelspec": {
   "display_name": "Python 3",
   "language": "python",
   "name": "python3"
  },
  "language_info": {
   "codemirror_mode": {
    "name": "ipython",
    "version": 3
   },
   "file_extension": ".py",
   "mimetype": "text/x-python",
   "name": "python",
   "nbconvert_exporter": "python",
   "pygments_lexer": "ipython3",
   "version": "3.7.4"
  }
 },
 "nbformat": 4,
 "nbformat_minor": 2
}
